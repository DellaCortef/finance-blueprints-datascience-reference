{
 "cells": [
  {
   "cell_type": "markdown",
   "id": "a9e25e80",
   "metadata": {},
   "source": [
    "# Supervised Learning: Models and Concepts\n",
    "\n",
    "Supervised learning is an area of ​​machine learning in which the chosen algorithm attempts to fit a target using given input. A training data set containing labels is provided to the algorithm. Based on a massive set of data, it will learn a rule that it uses to predict labels on new observations. In other words, supervised learning algorithms receive historical data and the task of finding the relationship that has the best predictive power.\n",
    "\n",
    "There are two varieties of supervised learning algorithms: regression and classification algorithms. Regression-based supervised learning methods attempt to predict outputs based on input variables. Classification-based supervised learning methods identify the category to which a dataset belongs. Classification algorithms are based on probability, that is, the output is the category for which the algorithm finds the highest probability that the data set belongs to it. Regression algorithms, in contrast, estimate the output of problems that have an infinite number of solutions (continuous set of possible outputs).\n",
    "\n",
    "In the context of finance, supervised learning models represent one of the most widely used classes of machine learning models. Many algorithms that are widely applied in algorithmic trading use supervised learning models, as they can be trained efficiently, are relatively robust to noise in financial data, and have strong links to finance theory.\n",
    "\n",
    "Regression-based algorithms have been leveraged by academic and industry researchers to develop numerous asset pricing models. Such models are used to predict returns over multiple periods and to identify significant factors that drive returns on assets. There are many other use cases for regression-based supervised learning in portfolio management and derivatives pricing.\n",
    "\n",
    "Classification-based algorithms, on the other hand, have been pushed into several areas within finance that require predicting a categorical reaction. Among them, we have fraud detection, default prediction, credit score, directional prediction of movements in asset prices and buy/sell recommendations. There are many other use cases for classification-based supervised learning, such as portfolio management and algorithmic trading.\n",
    "\n",
    "---\n",
    "\n",
    "##### Topics that will be covered:\n",
    "\n",
    "- basic concepts about supervised learning models;\n",
    "- how to implement different supervised learning models in Python;\n",
    "- how to optimize models and identify their ideal parameters using grid search;\n",
    "- overfitting versus underfitting and bias versus variance;\n",
    "- strengths and weaknesses of the different supervised learning models;\n",
    "- how to use multiple models, deep learning and ANNs for regression and classification;\n",
    "- how to select a model based on several factors, including performance;\n",
    "- evaluation metrics for classification and regression models;\n",
    "- how to perform cross-validation;\n",
    "\n",
    "---\n",
    "\n",
    "## Modelos de Aprendizado Supervisionado: Visão Geral\n",
    "\n"
   ]
  }
 ],
 "metadata": {
  "kernelspec": {
   "display_name": "Python 3 (ipykernel)",
   "language": "python",
   "name": "python3"
  },
  "language_info": {
   "codemirror_mode": {
    "name": "ipython",
    "version": 3
   },
   "file_extension": ".py",
   "mimetype": "text/x-python",
   "name": "python",
   "nbconvert_exporter": "python",
   "pygments_lexer": "ipython3",
   "version": "3.9.13"
  }
 },
 "nbformat": 4,
 "nbformat_minor": 5
}
