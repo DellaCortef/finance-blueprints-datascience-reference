{
 "cells": [
  {
   "cell_type": "markdown",
   "id": "d9f11257",
   "metadata": {},
   "source": [
    "Regarding the platforms used for machine learning, there are many algorithms and programming languages. However, the Python ecosystem is one of the most dominant and fastest growing in machine learning.\n",
    "\n",
    "Given its popularity and high adoption rate, we will use Python as our main programming language. First, we will look at the details of the Python packages used for machine learning, followed by the model development steps in the Python framework.\n",
    "\n",
    "## Why Python?\n",
    "\n",
    "These are some of the reasons for Python's popularity:\n",
    "\n",
    "- high-level syntax (compared to lower-level languages ​​like C, Java, and C++). Applications can be developed by writing fewer lines of code, making Python attractive to both beginners and advanced programmers;\n",
    "- efficient development life cycle;\n",
    "- large collection of community-run and open-source libraries;\n",
    "- strong portability.\n",
    "\n",
    "Python's simplicity attracts many developers who create new libraries for machine learning, leading to its strong adoption.\n",
    "\n",
    "## Python Packages for Machine Learning"
   ]
  },
  {
   "cell_type": "code",
   "execution_count": null,
   "id": "4fd1e841",
   "metadata": {},
   "outputs": [],
   "source": []
  }
 ],
 "metadata": {
  "kernelspec": {
   "display_name": "Python 3 (ipykernel)",
   "language": "python",
   "name": "python3"
  },
  "language_info": {
   "codemirror_mode": {
    "name": "ipython",
    "version": 3
   },
   "file_extension": ".py",
   "mimetype": "text/x-python",
   "name": "python",
   "nbconvert_exporter": "python",
   "pygments_lexer": "ipython3",
   "version": "3.9.13"
  }
 },
 "nbformat": 4,
 "nbformat_minor": 5
}
