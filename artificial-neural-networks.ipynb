{
 "cells": [
  {
   "attachments": {},
   "cell_type": "markdown",
   "id": "534f5ff3",
   "metadata": {},
   "source": [
    "# Artificial Neural Networks\n",
    "\n",
    "There are many different types of models used in machine learning. However, one of the classes of ML model that stands out is the artificial neural network (ANN). Considering that it is used in all types of machine learning, we will present the basics about them.\n",
    "\n",
    "ANNs are computational systems based on a collection of connected units (or nodes) called artificial neurons, which more or less mimic the neurons in a biological brain. Each connection, like the synapses in a biological brain\n",
    "ogic, it can transmit signal from one artificial neuron to another. An artificial neuron that receives a signal can process it and then signal other artificial neurons connected to it.\n",
    "\n",
    "*Deep learning* involves the study of complex algorithms related to ANN. Complexity is attributed to elaborate patterns in how information flows throughout the model. Deep learning has the ability to represent the world as a nested hierarchy of concepts, each defined in relation to a simpler concept. Deep learning techniques are used extensively in reinforcement learning and natural language processing applications.\n",
    "\n",
    "## ANNs: Architecture, Training and Hyperparameters\n",
    "\n",
    "ANNs contain multiple neurons arranged in layers. An ANN goes through a training phase by comparing the modeled output with the desired output, in which it learns to recognize patterns in the data.\n",
    "\n",
    "### Architecture\n",
    "\n",
    "The architecture of an ANN encompasses Neurons, layers and weights.\n",
    "\n",
    "#### Neurons\n",
    "\n",
    "The basis of ANNs are neurons (also known as artificial neurons, nodes or perceptrons). Neurons have one or more inputs and one output. It is possible to create a network of neurons to compute complex logical propositions. Activation functions in these neurons create complicated, non-linear functional mappings between inputs and output.\n",
    "\n",
    "As shown in the figure below, a neuron takes an input (x<sub>1</sub>, x<sub>2</sub>, ..., x<sub>n</sub>), applies the learning parameters to generate a weighted sum (*z*), and then passes that sum to an activation function (*f*) that computes the output *f(z)*.\n",
    "\n",
    "<figure>\n",
    "    <img src=\"https://upload.wikimedia.org/wikipedia/commons/thumb/c/c6/Artificial_neuron_structure.svg/1200px-Artificial_neuron_structure.svg.png\" width=\"600\">\n",
    "    <figcaption>Neuron Artificial</figcaption>\n",
    "</figure>\n",
    "\n",
    "#### Layers\n",
    "\n",
    "The *f(z)* output of a single neuron (as shown in the figure above) will not be able to model complex tasks. So, in order to deal with more complex structures, we have multiple layers of these neurons. As we accumulate neurons horizontally and vertically, the class of functions that we can obtain becomes increasingly complex. The figure below shows the architecture of an ANN with an input layer, an output layer and a hidden layer.\n",
    "\n",
    "<figure>\n",
    "    <img src=\"https://i0.wp.com/i.postimg.cc/pLgLsJDt/Architecture.jpg?w=1230&ssl=1\" width=\"600\">\n",
    "    <figcaption>Neural network Architecture</figcaption>\n",
    "</figure>\n",
    "\n",
    "##### Input layer\n",
    "- the input layer takes the input from the dataset and is the exposed part of the network. Typically, a neural network is designed by having an input layer where each neuron corresponds to a different value present in the input data set. The neurons in the input layer just pass the input value to the next layer.\n",
    "\n",
    "##### Hidden layers\n",
    "- the layers after the input layers are called hidden, as they are not directly exposed to the input. The simplest network structure is to have a single neuron in the hidden layer that produces value.\n",
    "\n",
    "A multilayer ANN is capable of solving complex tasks related to machine learning due to the hidden layer(s). Because of ever-increasing computing power and efficient libraries, neural networks with many layers can be built. ANNs with many hidden layers (more than three0) are known as *deep neural networks*. Deep neural networks have several hidden layers, which allow the network to learn features from data in a hierarchical structure. In this hierarchy, the simplest attributes, learned in the first layers, are combined in subsequent layers to form more complex attributes. ANNs with many layers pass input data, features, through more complex mathematical operations than ANNs with fewer layers, and are therefore more computationally intensive to be trained.\n",
    "\n"
   ]
  },
  {
   "cell_type": "code",
   "execution_count": null,
   "id": "0abda0d3",
   "metadata": {},
   "outputs": [],
   "source": []
  }
 ],
 "metadata": {
  "kernelspec": {
   "display_name": "Python 3 (ipykernel)",
   "language": "python",
   "name": "python3"
  },
  "language_info": {
   "codemirror_mode": {
    "name": "ipython",
    "version": 3
   },
   "file_extension": ".py",
   "mimetype": "text/x-python",
   "name": "python",
   "nbconvert_exporter": "python",
   "pygments_lexer": "ipython3",
   "version": "3.9.13"
  }
 },
 "nbformat": 4,
 "nbformat_minor": 5
}
